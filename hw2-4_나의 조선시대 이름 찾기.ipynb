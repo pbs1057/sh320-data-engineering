{
 "cells": [
  {
   "cell_type": "code",
   "execution_count": 3,
   "id": "173c8fca",
   "metadata": {},
   "outputs": [],
   "source": [
    "def get_my_chosun_name(family_name, month, day):\n",
    "    first_name_list = ['쌍', '쇠', '복', '돌', '팽', '육', '쌍', '개', '칠', '갑', '삼', '방']\n",
    "    second_name_list = ['봉', '구', '욕', '포', '똥', '삼', '식', '석', '놈', '님', \n",
    "                        '년', '돌', '단', '득', '방', '질', '장', '걸', '래', '룡', \n",
    "                        '동', '순', '자', '박', '창', '언', '것', '포', '만', '단', '국']\n",
    "    \n",
    "    first_char = first_name_list[month - 1]  \n",
    "    second_char = second_name_list[day - 1]  \n",
    "\n",
    "    chosun_name = family_name + first_char + second_char\n",
    "    return f\"당신의 조선시대 이름은 {chosun_name} 입니다.\""
   ]
  },
  {
   "cell_type": "code",
   "execution_count": 4,
   "id": "9fafde7b",
   "metadata": {},
   "outputs": [
    {
     "name": "stdout",
     "output_type": "stream",
     "text": [
      "당신의 조선시대 이름은 안칠걸 입니다.\n"
     ]
    }
   ],
   "source": [
    "print(get_my_chosun_name('안', 9, 18))"
   ]
  },
  {
   "cell_type": "code",
   "execution_count": null,
   "id": "a2eb04ab",
   "metadata": {},
   "outputs": [],
   "source": []
  }
 ],
 "metadata": {
  "kernelspec": {
   "display_name": "main",
   "language": "python",
   "name": "python3"
  },
  "language_info": {
   "codemirror_mode": {
    "name": "ipython",
    "version": 3
   },
   "file_extension": ".py",
   "mimetype": "text/x-python",
   "name": "python",
   "nbconvert_exporter": "python",
   "pygments_lexer": "ipython3",
   "version": "3.11.5"
  }
 },
 "nbformat": 4,
 "nbformat_minor": 5
}
