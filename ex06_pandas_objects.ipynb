{
 "cells": [
  {
   "cell_type": "markdown",
   "metadata": {},
   "source": [
    "## <strong> 6. Pandas 객체 생성 및 조작 </strong>"
   ]
  },
  {
   "cell_type": "markdown",
   "metadata": {},
   "source": [
    "```Pandas``` 라이브러리 설치"
   ]
  },
  {
   "cell_type": "code",
   "execution_count": 2,
   "metadata": {},
   "outputs": [
    {
     "name": "stdout",
     "output_type": "stream",
     "text": [
      "Collecting pandas\n",
      "  Downloading pandas-2.2.3-cp311-cp311-win_amd64.whl.metadata (19 kB)\n",
      "Requirement already satisfied: numpy>=1.23.2 in c:\\users\\pbs10\\anaconda3\\envs\\main\\lib\\site-packages (from pandas) (2.2.4)\n",
      "Requirement already satisfied: python-dateutil>=2.8.2 in c:\\users\\pbs10\\anaconda3\\envs\\main\\lib\\site-packages (from pandas) (2.9.0.post0)\n",
      "Collecting pytz>=2020.1 (from pandas)\n",
      "  Downloading pytz-2025.2-py2.py3-none-any.whl.metadata (22 kB)\n",
      "Collecting tzdata>=2022.7 (from pandas)\n",
      "  Downloading tzdata-2025.2-py2.py3-none-any.whl.metadata (1.4 kB)\n",
      "Requirement already satisfied: six>=1.5 in c:\\users\\pbs10\\anaconda3\\envs\\main\\lib\\site-packages (from python-dateutil>=2.8.2->pandas) (1.17.0)\n",
      "Downloading pandas-2.2.3-cp311-cp311-win_amd64.whl (11.6 MB)\n",
      "   ---------------------------------------- 0.0/11.6 MB ? eta -:--:--\n",
      "   ---------------------------------------- 0.1/11.6 MB 1.7 MB/s eta 0:00:07\n",
      "   ---------------------------------------- 0.1/11.6 MB 1.7 MB/s eta 0:00:07\n",
      "    --------------------------------------- 0.2/11.6 MB 1.5 MB/s eta 0:00:08\n",
      "   - -------------------------------------- 0.3/11.6 MB 1.5 MB/s eta 0:00:08\n",
      "   - -------------------------------------- 0.4/11.6 MB 1.5 MB/s eta 0:00:08\n",
      "   - -------------------------------------- 0.4/11.6 MB 1.4 MB/s eta 0:00:08\n",
      "   - -------------------------------------- 0.6/11.6 MB 1.5 MB/s eta 0:00:08\n",
      "   -- ------------------------------------- 0.6/11.6 MB 1.5 MB/s eta 0:00:08\n",
      "   -- ------------------------------------- 0.7/11.6 MB 1.4 MB/s eta 0:00:08\n",
      "   -- ------------------------------------- 0.7/11.6 MB 1.4 MB/s eta 0:00:08\n",
      "   -- ------------------------------------- 0.7/11.6 MB 1.4 MB/s eta 0:00:08\n",
      "   -- ------------------------------------- 0.7/11.6 MB 1.4 MB/s eta 0:00:08\n",
      "   -- ------------------------------------- 0.7/11.6 MB 1.2 MB/s eta 0:00:10\n",
      "   -- ------------------------------------- 0.8/11.6 MB 1.2 MB/s eta 0:00:10\n",
      "   --- ------------------------------------ 0.9/11.6 MB 1.2 MB/s eta 0:00:09\n",
      "   --- ------------------------------------ 1.0/11.6 MB 1.2 MB/s eta 0:00:10\n",
      "   --- ------------------------------------ 1.0/11.6 MB 1.2 MB/s eta 0:00:09\n",
      "   --- ------------------------------------ 1.1/11.6 MB 1.2 MB/s eta 0:00:09\n",
      "   ---- ----------------------------------- 1.2/11.6 MB 1.3 MB/s eta 0:00:09\n",
      "   ---- ----------------------------------- 1.3/11.6 MB 1.2 MB/s eta 0:00:09\n",
      "   ---- ----------------------------------- 1.3/11.6 MB 1.3 MB/s eta 0:00:09\n",
      "   ----- ---------------------------------- 1.5/11.6 MB 1.3 MB/s eta 0:00:08\n",
      "   ----- ---------------------------------- 1.5/11.6 MB 1.3 MB/s eta 0:00:08\n",
      "   ----- ---------------------------------- 1.5/11.6 MB 1.3 MB/s eta 0:00:08\n",
      "   ----- ---------------------------------- 1.6/11.6 MB 1.3 MB/s eta 0:00:08\n",
      "   ----- ---------------------------------- 1.6/11.6 MB 1.2 MB/s eta 0:00:08\n",
      "   ----- ---------------------------------- 1.7/11.6 MB 1.3 MB/s eta 0:00:08\n",
      "   ------ --------------------------------- 1.8/11.6 MB 1.3 MB/s eta 0:00:08\n",
      "   ------ --------------------------------- 1.8/11.6 MB 1.3 MB/s eta 0:00:08\n",
      "   ------ --------------------------------- 1.9/11.6 MB 1.2 MB/s eta 0:00:08\n",
      "   ------ --------------------------------- 1.9/11.6 MB 1.2 MB/s eta 0:00:08\n",
      "   ------ --------------------------------- 1.9/11.6 MB 1.2 MB/s eta 0:00:09\n",
      "   ------ --------------------------------- 2.0/11.6 MB 1.2 MB/s eta 0:00:09\n",
      "   ------ --------------------------------- 2.0/11.6 MB 1.2 MB/s eta 0:00:09\n",
      "   ------ --------------------------------- 2.0/11.6 MB 1.2 MB/s eta 0:00:09\n",
      "   ------- -------------------------------- 2.1/11.6 MB 1.2 MB/s eta 0:00:09\n",
      "   ------- -------------------------------- 2.1/11.6 MB 1.2 MB/s eta 0:00:09\n",
      "   ------- -------------------------------- 2.2/11.6 MB 1.2 MB/s eta 0:00:09\n",
      "   ------- -------------------------------- 2.3/11.6 MB 1.2 MB/s eta 0:00:09\n",
      "   -------- ------------------------------- 2.4/11.6 MB 1.2 MB/s eta 0:00:08\n",
      "   -------- ------------------------------- 2.4/11.6 MB 1.2 MB/s eta 0:00:08\n",
      "   -------- ------------------------------- 2.5/11.6 MB 1.2 MB/s eta 0:00:08\n",
      "   --------- ------------------------------ 2.6/11.6 MB 1.2 MB/s eta 0:00:08\n",
      "   --------- ------------------------------ 2.7/11.6 MB 1.2 MB/s eta 0:00:08\n",
      "   --------- ------------------------------ 2.7/11.6 MB 1.2 MB/s eta 0:00:08\n",
      "   --------- ------------------------------ 2.8/11.6 MB 1.2 MB/s eta 0:00:08\n",
      "   --------- ------------------------------ 2.9/11.6 MB 1.2 MB/s eta 0:00:08\n",
      "   ---------- ----------------------------- 3.0/11.6 MB 1.2 MB/s eta 0:00:08\n",
      "   ---------- ----------------------------- 3.0/11.6 MB 1.2 MB/s eta 0:00:08\n",
      "   ---------- ----------------------------- 3.1/11.6 MB 1.2 MB/s eta 0:00:07\n",
      "   ----------- ---------------------------- 3.2/11.6 MB 1.2 MB/s eta 0:00:07\n",
      "   ----------- ---------------------------- 3.4/11.6 MB 1.2 MB/s eta 0:00:07\n",
      "   ----------- ---------------------------- 3.4/11.6 MB 1.2 MB/s eta 0:00:07\n",
      "   ------------ --------------------------- 3.5/11.6 MB 1.2 MB/s eta 0:00:07\n",
      "   ------------ --------------------------- 3.6/11.6 MB 1.2 MB/s eta 0:00:07\n",
      "   ------------ --------------------------- 3.6/11.6 MB 1.2 MB/s eta 0:00:07\n",
      "   ------------ --------------------------- 3.7/11.6 MB 1.2 MB/s eta 0:00:07\n",
      "   ------------- -------------------------- 3.8/11.6 MB 1.2 MB/s eta 0:00:07\n",
      "   ------------- -------------------------- 3.9/11.6 MB 1.2 MB/s eta 0:00:07\n",
      "   ------------- -------------------------- 3.9/11.6 MB 1.2 MB/s eta 0:00:07\n",
      "   ------------- -------------------------- 4.0/11.6 MB 1.2 MB/s eta 0:00:07\n",
      "   ------------- -------------------------- 4.0/11.6 MB 1.2 MB/s eta 0:00:07\n",
      "   ------------- -------------------------- 4.0/11.6 MB 1.2 MB/s eta 0:00:07\n",
      "   -------------- ------------------------- 4.1/11.6 MB 1.2 MB/s eta 0:00:07\n",
      "   -------------- ------------------------- 4.2/11.6 MB 1.2 MB/s eta 0:00:07\n",
      "   -------------- ------------------------- 4.3/11.6 MB 1.2 MB/s eta 0:00:07\n",
      "   -------------- ------------------------- 4.3/11.6 MB 1.2 MB/s eta 0:00:06\n",
      "   --------------- ------------------------ 4.4/11.6 MB 1.2 MB/s eta 0:00:06\n",
      "   --------------- ------------------------ 4.4/11.6 MB 1.2 MB/s eta 0:00:06\n",
      "   --------------- ------------------------ 4.5/11.6 MB 1.2 MB/s eta 0:00:06\n",
      "   --------------- ------------------------ 4.6/11.6 MB 1.2 MB/s eta 0:00:06\n",
      "   ---------------- ----------------------- 4.7/11.6 MB 1.2 MB/s eta 0:00:06\n",
      "   ---------------- ----------------------- 4.7/11.6 MB 1.2 MB/s eta 0:00:06\n",
      "   ---------------- ----------------------- 4.8/11.6 MB 1.2 MB/s eta 0:00:06\n",
      "   ---------------- ----------------------- 4.9/11.6 MB 1.2 MB/s eta 0:00:06\n",
      "   ----------------- ---------------------- 5.0/11.6 MB 1.2 MB/s eta 0:00:06\n",
      "   ----------------- ---------------------- 5.1/11.6 MB 1.2 MB/s eta 0:00:06\n",
      "   ----------------- ---------------------- 5.2/11.6 MB 1.2 MB/s eta 0:00:06\n",
      "   ------------------ --------------------- 5.3/11.6 MB 1.2 MB/s eta 0:00:06\n",
      "   ------------------ --------------------- 5.3/11.6 MB 1.3 MB/s eta 0:00:06\n",
      "   ------------------ --------------------- 5.5/11.6 MB 1.3 MB/s eta 0:00:05\n",
      "   ------------------- -------------------- 5.5/11.6 MB 1.3 MB/s eta 0:00:05\n",
      "   ------------------- -------------------- 5.6/11.6 MB 1.3 MB/s eta 0:00:05\n",
      "   ------------------- -------------------- 5.7/11.6 MB 1.3 MB/s eta 0:00:05\n",
      "   ------------------- -------------------- 5.7/11.6 MB 1.3 MB/s eta 0:00:05\n",
      "   ------------------- -------------------- 5.8/11.6 MB 1.3 MB/s eta 0:00:05\n",
      "   -------------------- ------------------- 5.9/11.6 MB 1.3 MB/s eta 0:00:05\n",
      "   -------------------- ------------------- 6.0/11.6 MB 1.3 MB/s eta 0:00:05\n",
      "   -------------------- ------------------- 6.1/11.6 MB 1.3 MB/s eta 0:00:05\n",
      "   -------------------- ------------------- 6.1/11.6 MB 1.3 MB/s eta 0:00:05\n",
      "   --------------------- ------------------ 6.2/11.6 MB 1.3 MB/s eta 0:00:05\n",
      "   --------------------- ------------------ 6.3/11.6 MB 1.3 MB/s eta 0:00:05\n",
      "   --------------------- ------------------ 6.4/11.6 MB 1.3 MB/s eta 0:00:05\n",
      "   ---------------------- ----------------- 6.5/11.6 MB 1.3 MB/s eta 0:00:04\n",
      "   ---------------------- ----------------- 6.6/11.6 MB 1.3 MB/s eta 0:00:04\n",
      "   ----------------------- ---------------- 6.7/11.6 MB 1.3 MB/s eta 0:00:04\n",
      "   ----------------------- ---------------- 6.8/11.6 MB 1.3 MB/s eta 0:00:04\n",
      "   ----------------------- ---------------- 6.9/11.6 MB 1.3 MB/s eta 0:00:04\n",
      "   ------------------------ --------------- 7.0/11.6 MB 1.3 MB/s eta 0:00:04\n",
      "   ------------------------ --------------- 7.1/11.6 MB 1.3 MB/s eta 0:00:04\n",
      "   ------------------------ --------------- 7.1/11.6 MB 1.3 MB/s eta 0:00:04\n",
      "   ------------------------ --------------- 7.2/11.6 MB 1.3 MB/s eta 0:00:04\n",
      "   ------------------------- -------------- 7.3/11.6 MB 1.3 MB/s eta 0:00:04\n",
      "   ------------------------- -------------- 7.4/11.6 MB 1.3 MB/s eta 0:00:04\n",
      "   ------------------------- -------------- 7.5/11.6 MB 1.3 MB/s eta 0:00:04\n",
      "   -------------------------- ------------- 7.6/11.6 MB 1.3 MB/s eta 0:00:03\n",
      "   -------------------------- ------------- 7.7/11.6 MB 1.3 MB/s eta 0:00:03\n",
      "   -------------------------- ------------- 7.8/11.6 MB 1.4 MB/s eta 0:00:03\n",
      "   --------------------------- ------------ 7.9/11.6 MB 1.4 MB/s eta 0:00:03\n",
      "   --------------------------- ------------ 8.1/11.6 MB 1.4 MB/s eta 0:00:03\n",
      "   ---------------------------- ----------- 8.2/11.6 MB 1.4 MB/s eta 0:00:03\n",
      "   ---------------------------- ----------- 8.3/11.6 MB 1.4 MB/s eta 0:00:03\n",
      "   ---------------------------- ----------- 8.4/11.6 MB 1.4 MB/s eta 0:00:03\n",
      "   ----------------------------- ---------- 8.5/11.6 MB 1.4 MB/s eta 0:00:03\n",
      "   ----------------------------- ---------- 8.7/11.6 MB 1.4 MB/s eta 0:00:03\n",
      "   ------------------------------ --------- 8.7/11.6 MB 1.4 MB/s eta 0:00:03\n",
      "   ------------------------------ --------- 8.8/11.6 MB 1.4 MB/s eta 0:00:03\n",
      "   ------------------------------ --------- 8.9/11.6 MB 1.4 MB/s eta 0:00:02\n",
      "   ------------------------------- -------- 9.0/11.6 MB 1.4 MB/s eta 0:00:02\n",
      "   ------------------------------- -------- 9.1/11.6 MB 1.4 MB/s eta 0:00:02\n",
      "   ------------------------------- -------- 9.2/11.6 MB 1.4 MB/s eta 0:00:02\n",
      "   ------------------------------- -------- 9.3/11.6 MB 1.4 MB/s eta 0:00:02\n",
      "   -------------------------------- ------- 9.4/11.6 MB 1.4 MB/s eta 0:00:02\n",
      "   -------------------------------- ------- 9.5/11.6 MB 1.4 MB/s eta 0:00:02\n",
      "   --------------------------------- ------ 9.6/11.6 MB 1.4 MB/s eta 0:00:02\n",
      "   --------------------------------- ------ 9.8/11.6 MB 1.4 MB/s eta 0:00:02\n",
      "   ---------------------------------- ----- 9.9/11.6 MB 1.4 MB/s eta 0:00:02\n",
      "   ---------------------------------- ----- 10.0/11.6 MB 1.4 MB/s eta 0:00:02\n",
      "   ---------------------------------- ----- 10.0/11.6 MB 1.4 MB/s eta 0:00:02\n",
      "   ----------------------------------- ---- 10.2/11.6 MB 1.4 MB/s eta 0:00:01\n",
      "   ----------------------------------- ---- 10.3/11.6 MB 1.5 MB/s eta 0:00:01\n",
      "   ----------------------------------- ---- 10.4/11.6 MB 1.5 MB/s eta 0:00:01\n",
      "   ------------------------------------ --- 10.5/11.6 MB 1.4 MB/s eta 0:00:01\n",
      "   ------------------------------------ --- 10.6/11.6 MB 1.5 MB/s eta 0:00:01\n",
      "   ------------------------------------ --- 10.7/11.6 MB 1.5 MB/s eta 0:00:01\n",
      "   ------------------------------------- -- 10.8/11.6 MB 1.5 MB/s eta 0:00:01\n",
      "   ------------------------------------- -- 10.9/11.6 MB 1.5 MB/s eta 0:00:01\n",
      "   ------------------------------------- -- 10.9/11.6 MB 1.5 MB/s eta 0:00:01\n",
      "   ------------------------------------- -- 10.9/11.6 MB 1.5 MB/s eta 0:00:01\n",
      "   -------------------------------------- - 11.1/11.6 MB 1.5 MB/s eta 0:00:01\n",
      "   -------------------------------------- - 11.2/11.6 MB 1.5 MB/s eta 0:00:01\n",
      "   -------------------------------------- - 11.3/11.6 MB 1.5 MB/s eta 0:00:01\n",
      "   ---------------------------------------  11.3/11.6 MB 1.5 MB/s eta 0:00:01\n",
      "   ---------------------------------------  11.4/11.6 MB 1.5 MB/s eta 0:00:01\n",
      "   ---------------------------------------  11.6/11.6 MB 1.5 MB/s eta 0:00:01\n",
      "   ---------------------------------------  11.6/11.6 MB 1.5 MB/s eta 0:00:01\n",
      "   ---------------------------------------- 11.6/11.6 MB 1.5 MB/s eta 0:00:00\n",
      "Downloading pytz-2025.2-py2.py3-none-any.whl (509 kB)\n",
      "   ---------------------------------------- 0.0/509.2 kB ? eta -:--:--\n",
      "   -------- ------------------------------- 112.6/509.2 kB 3.3 MB/s eta 0:00:01\n",
      "   -------------------- ------------------- 256.0/509.2 kB 2.6 MB/s eta 0:00:01\n",
      "   --------------------------- ------------ 348.2/509.2 kB 2.2 MB/s eta 0:00:01\n",
      "   ---------------------------------- ----- 440.3/509.2 kB 2.0 MB/s eta 0:00:01\n",
      "   -------------------------------------- - 491.5/509.2 kB 1.9 MB/s eta 0:00:01\n",
      "   ---------------------------------------- 509.2/509.2 kB 1.7 MB/s eta 0:00:00\n",
      "Downloading tzdata-2025.2-py2.py3-none-any.whl (347 kB)\n",
      "   ---------------------------------------- 0.0/347.8 kB ? eta -:--:--\n",
      "   - -------------------------------------- 10.2/347.8 kB ? eta -:--:--\n",
      "   ----------- ---------------------------- 102.4/347.8 kB 1.5 MB/s eta 0:00:01\n",
      "   ------------------------ --------------- 215.0/347.8 kB 1.6 MB/s eta 0:00:01\n",
      "   ---------------------------------- ----- 297.0/347.8 kB 1.7 MB/s eta 0:00:01\n",
      "   -------------------------------------- - 337.9/347.8 kB 1.6 MB/s eta 0:00:01\n",
      "   -------------------------------------- - 337.9/347.8 kB 1.6 MB/s eta 0:00:01\n",
      "   -------------------------------------- - 337.9/347.8 kB 1.6 MB/s eta 0:00:01\n",
      "   -------------------------------------- 347.8/347.8 kB 900.3 kB/s eta 0:00:00\n",
      "Installing collected packages: pytz, tzdata, pandas\n",
      "Successfully installed pandas-2.2.3 pytz-2025.2 tzdata-2025.2\n"
     ]
    }
   ],
   "source": [
    "!pip install pandas"
   ]
  },
  {
   "cell_type": "code",
   "execution_count": 1,
   "metadata": {},
   "outputs": [],
   "source": [
    "import pandas as pd\n",
    "import numpy as np"
   ]
  },
  {
   "cell_type": "code",
   "execution_count": null,
   "metadata": {},
   "outputs": [],
   "source": [
    "# 헬프 문서 출력\n",
    "pd?"
   ]
  },
  {
   "cell_type": "code",
   "execution_count": 4,
   "metadata": {},
   "outputs": [
    {
     "data": {
      "text/plain": [
       "'2.2.3'"
      ]
     },
     "execution_count": 4,
     "metadata": {},
     "output_type": "execute_result"
    }
   ],
   "source": [
    "# 라이브러리 버전 확인\n",
    "pd.__version__"
   ]
  },
  {
   "cell_type": "markdown",
   "metadata": {},
   "source": [
    "### Pandas 객체: <strong> Series </strong>"
   ]
  },
  {
   "cell_type": "code",
   "execution_count": 5,
   "metadata": {},
   "outputs": [
    {
     "data": {
      "text/plain": [
       "0    asd\n",
       "1    123\n",
       "2    asd\n",
       "dtype: object"
      ]
     },
     "execution_count": 5,
     "metadata": {},
     "output_type": "execute_result"
    }
   ],
   "source": [
    "# [+] List 객체에서 Series 객체를 생성\n",
    "ser = pd.Series(['asd',123,'asd'])\n",
    "ser"
   ]
  },
  {
   "cell_type": "code",
   "execution_count": 6,
   "metadata": {},
   "outputs": [
    {
     "data": {
      "text/plain": [
       "array(['asd', 123, 'asd'], dtype=object)"
      ]
     },
     "execution_count": 6,
     "metadata": {},
     "output_type": "execute_result"
    }
   ],
   "source": [
    "# Pandas 객체 속성: .values\n",
    "vals = ser.values\n",
    "vals\n"
   ]
  },
  {
   "cell_type": "code",
   "execution_count": 7,
   "metadata": {},
   "outputs": [
    {
     "name": "stdout",
     "output_type": "stream",
     "text": [
      "RangeIndex(start=0, stop=3, step=1)\n",
      "[0, 1, 2]\n"
     ]
    }
   ],
   "source": [
    "# Pandas 객체 속성: .index\n",
    "ind = ser.index\n",
    "print(ind)\n",
    "print(list(ind))"
   ]
  },
  {
   "cell_type": "code",
   "execution_count": 11,
   "metadata": {},
   "outputs": [
    {
     "name": "stdout",
     "output_type": "stream",
     "text": [
      "a    0.25\n",
      "b    0.50\n",
      "c    0.75\n",
      "b    1.00\n",
      "dtype: float64\n",
      "0.25\n",
      "Index(['a', 'b', 'c', 'b'], dtype='object')\n",
      "['a', 'b', 'c', 'b']\n"
     ]
    }
   ],
   "source": [
    "# [+] 레이블 기반 인덱싱\n",
    "ser = pd.Series([0.25, 0.5, 0.75, 1.0], index=['a','b','c','b'])\n",
    "print(ser)\n",
    "print(ser['a'])\n",
    "\n",
    "print(\n",
    "    ser.index)\n",
    "print(list(ser.index))"
   ]
  },
  {
   "cell_type": "markdown",
   "metadata": {},
   "source": [
    "### <strong> Dictionary와 Series 객체 </strong>"
   ]
  },
  {
   "cell_type": "code",
   "execution_count": 2,
   "metadata": {},
   "outputs": [
    {
     "data": {
      "text/plain": [
       "California    38332521\n",
       "Texas         26448193\n",
       "New York      19651127\n",
       "Florida       19552860\n",
       "Illinois      12882135\n",
       "dtype: int64"
      ]
     },
     "execution_count": 2,
     "metadata": {},
     "output_type": "execute_result"
    }
   ],
   "source": [
    "# Dictionary 객체에서 Series 객체를 생성\n",
    "population_dict = {\n",
    "    'California': 38332521,   # 미국 연방주 별 인구\n",
    "    'Texas': 26448193,\n",
    "    'New York': 19651127,\n",
    "    'Florida': 19552860,\n",
    "    'Illinois': 12882135\n",
    "}\n",
    "\n",
    "population = pd.Series(population_dict)\n",
    "population"
   ]
  },
  {
   "cell_type": "code",
   "execution_count": 7,
   "metadata": {},
   "outputs": [
    {
     "data": {
      "text/plain": [
       "California    38332521\n",
       "Texas         26448193\n",
       "New York      19651127\n",
       "dtype: int64"
      ]
     },
     "execution_count": 7,
     "metadata": {},
     "output_type": "execute_result"
    }
   ],
   "source": [
    "# [+] 레이블 기반 인덱싱: 'California'에서 'New York'까지\n",
    "population[0:3]\n",
    "population['California' : 'New York']"
   ]
  },
  {
   "cell_type": "markdown",
   "metadata": {},
   "source": [
    "### Pandas 객체:<strong> DataFrame </strong>"
   ]
  },
  {
   "cell_type": "code",
   "execution_count": null,
   "metadata": {},
   "outputs": [
    {
     "data": {
      "text/plain": [
       "California    423967\n",
       "Texas         695662\n",
       "New York      141297\n",
       "Florida       170312\n",
       "Illinois      149995\n",
       "dtype: int64"
      ]
     },
     "execution_count": 8,
     "metadata": {},
     "output_type": "execute_result"
    }
   ],
   "source": [
    "# 미국 연방주 별 면적\n",
    "area_dict = {\n",
    "    'California': 423967,\n",
    "    'Texas': 695662,\n",
    "    'New York': 141297,\n",
    "    'Florida': 170312,\n",
    "    'Illinois': 149995\n",
    "}\n",
    "\n",
    "area = pd.Series(area_dict)\n",
    "area"
   ]
  },
  {
   "cell_type": "code",
   "execution_count": 11,
   "metadata": {},
   "outputs": [
    {
     "data": {
      "text/html": [
       "<div>\n",
       "<style scoped>\n",
       "    .dataframe tbody tr th:only-of-type {\n",
       "        vertical-align: middle;\n",
       "    }\n",
       "\n",
       "    .dataframe tbody tr th {\n",
       "        vertical-align: top;\n",
       "    }\n",
       "\n",
       "    .dataframe thead th {\n",
       "        text-align: right;\n",
       "    }\n",
       "</style>\n",
       "<table border=\"1\" class=\"dataframe\">\n",
       "  <thead>\n",
       "    <tr style=\"text-align: right;\">\n",
       "      <th></th>\n",
       "      <th>population</th>\n",
       "      <th>area</th>\n",
       "    </tr>\n",
       "  </thead>\n",
       "  <tbody>\n",
       "    <tr>\n",
       "      <th>California</th>\n",
       "      <td>38332521</td>\n",
       "      <td>423967</td>\n",
       "    </tr>\n",
       "    <tr>\n",
       "      <th>Texas</th>\n",
       "      <td>26448193</td>\n",
       "      <td>695662</td>\n",
       "    </tr>\n",
       "    <tr>\n",
       "      <th>New York</th>\n",
       "      <td>19651127</td>\n",
       "      <td>141297</td>\n",
       "    </tr>\n",
       "    <tr>\n",
       "      <th>Florida</th>\n",
       "      <td>19552860</td>\n",
       "      <td>170312</td>\n",
       "    </tr>\n",
       "    <tr>\n",
       "      <th>Illinois</th>\n",
       "      <td>12882135</td>\n",
       "      <td>149995</td>\n",
       "    </tr>\n",
       "  </tbody>\n",
       "</table>\n",
       "</div>"
      ],
      "text/plain": [
       "            population    area\n",
       "California    38332521  423967\n",
       "Texas         26448193  695662\n",
       "New York      19651127  141297\n",
       "Florida       19552860  170312\n",
       "Illinois      12882135  149995"
      ]
     },
     "execution_count": 11,
     "metadata": {},
     "output_type": "execute_result"
    }
   ],
   "source": [
    "# [+] 'population'과 'area' Series 객체를 포함하는 DataFrame 객체 생성\n",
    "states = pd.DataFrame({'population': population , 'area': area})\n",
    "states"
   ]
  },
  {
   "cell_type": "code",
   "execution_count": 12,
   "metadata": {},
   "outputs": [
    {
     "name": "stdout",
     "output_type": "stream",
     "text": [
      "Index(['California', 'Texas', 'New York', 'Florida', 'Illinois'], dtype='object')\n",
      "Index(['population', 'area'], dtype='object')\n"
     ]
    }
   ],
   "source": [
    "# DataFrame 객체의 인덱스와 컬럼\n",
    "print(states.index)\n",
    "print(states.columns)"
   ]
  },
  {
   "cell_type": "code",
   "execution_count": 13,
   "metadata": {},
   "outputs": [
    {
     "data": {
      "text/plain": [
       "Index(['population', 'area'], dtype='object')"
      ]
     },
     "execution_count": 13,
     "metadata": {},
     "output_type": "execute_result"
    }
   ],
   "source": [
    "# [+] DataFrame으로부터 Series 객체 접근하기\n",
    "states.columns"
   ]
  },
  {
   "cell_type": "markdown",
   "metadata": {},
   "source": [
    "#### **NumPy 배열로부터 DataFrame 객체 생성**\n",
    "+ 예제, 오늘의 운세: 금전운(```money_fortune```), 연애운(```love_fortune```)"
   ]
  },
  {
   "cell_type": "code",
   "execution_count": 17,
   "metadata": {},
   "outputs": [
    {
     "data": {
      "text/plain": [
       "array([[0.24738463, 0.43426827],\n",
       "       [0.3915062 , 0.82153652],\n",
       "       [0.95998115, 0.72521217],\n",
       "       [0.50488091, 0.80782142],\n",
       "       [0.14821459, 0.44541423],\n",
       "       [0.768565  , 0.95562425],\n",
       "       [0.81277423, 0.23918684],\n",
       "       [0.35883782, 0.37832679],\n",
       "       [0.17233968, 0.56301487],\n",
       "       [0.05952082, 0.15696858],\n",
       "       [0.2537728 , 0.63064745],\n",
       "       [0.81116008, 0.66291767]])"
      ]
     },
     "execution_count": 17,
     "metadata": {},
     "output_type": "execute_result"
    }
   ],
   "source": [
    "# [+] 실수 난수로 이루어진 12X2 크기의 NumPy 배열 생성\n",
    "arr = np.random.rand(12,2)\n",
    "arr"
   ]
  },
  {
   "cell_type": "code",
   "execution_count": 19,
   "metadata": {},
   "outputs": [
    {
     "data": {
      "text/html": [
       "<div>\n",
       "<style scoped>\n",
       "    .dataframe tbody tr th:only-of-type {\n",
       "        vertical-align: middle;\n",
       "    }\n",
       "\n",
       "    .dataframe tbody tr th {\n",
       "        vertical-align: top;\n",
       "    }\n",
       "\n",
       "    .dataframe thead th {\n",
       "        text-align: right;\n",
       "    }\n",
       "</style>\n",
       "<table border=\"1\" class=\"dataframe\">\n",
       "  <thead>\n",
       "    <tr style=\"text-align: right;\">\n",
       "      <th></th>\n",
       "      <th>money_fortune</th>\n",
       "      <th>love_fortune</th>\n",
       "    </tr>\n",
       "  </thead>\n",
       "  <tbody>\n",
       "    <tr>\n",
       "      <th>Jan</th>\n",
       "      <td>0.247385</td>\n",
       "      <td>0.434268</td>\n",
       "    </tr>\n",
       "    <tr>\n",
       "      <th>Feb</th>\n",
       "      <td>0.391506</td>\n",
       "      <td>0.821537</td>\n",
       "    </tr>\n",
       "    <tr>\n",
       "      <th>Mar</th>\n",
       "      <td>0.959981</td>\n",
       "      <td>0.725212</td>\n",
       "    </tr>\n",
       "    <tr>\n",
       "      <th>Apr</th>\n",
       "      <td>0.504881</td>\n",
       "      <td>0.807821</td>\n",
       "    </tr>\n",
       "    <tr>\n",
       "      <th>May</th>\n",
       "      <td>0.148215</td>\n",
       "      <td>0.445414</td>\n",
       "    </tr>\n",
       "    <tr>\n",
       "      <th>Jun</th>\n",
       "      <td>0.768565</td>\n",
       "      <td>0.955624</td>\n",
       "    </tr>\n",
       "    <tr>\n",
       "      <th>Jul</th>\n",
       "      <td>0.812774</td>\n",
       "      <td>0.239187</td>\n",
       "    </tr>\n",
       "    <tr>\n",
       "      <th>Aug</th>\n",
       "      <td>0.358838</td>\n",
       "      <td>0.378327</td>\n",
       "    </tr>\n",
       "    <tr>\n",
       "      <th>Sep</th>\n",
       "      <td>0.172340</td>\n",
       "      <td>0.563015</td>\n",
       "    </tr>\n",
       "    <tr>\n",
       "      <th>Oct</th>\n",
       "      <td>0.059521</td>\n",
       "      <td>0.156969</td>\n",
       "    </tr>\n",
       "    <tr>\n",
       "      <th>Nov</th>\n",
       "      <td>0.253773</td>\n",
       "      <td>0.630647</td>\n",
       "    </tr>\n",
       "    <tr>\n",
       "      <th>Dec</th>\n",
       "      <td>0.811160</td>\n",
       "      <td>0.662918</td>\n",
       "    </tr>\n",
       "  </tbody>\n",
       "</table>\n",
       "</div>"
      ],
      "text/plain": [
       "     money_fortune  love_fortune\n",
       "Jan       0.247385      0.434268\n",
       "Feb       0.391506      0.821537\n",
       "Mar       0.959981      0.725212\n",
       "Apr       0.504881      0.807821\n",
       "May       0.148215      0.445414\n",
       "Jun       0.768565      0.955624\n",
       "Jul       0.812774      0.239187\n",
       "Aug       0.358838      0.378327\n",
       "Sep       0.172340      0.563015\n",
       "Oct       0.059521      0.156969\n",
       "Nov       0.253773      0.630647\n",
       "Dec       0.811160      0.662918"
      ]
     },
     "execution_count": 19,
     "metadata": {},
     "output_type": "execute_result"
    }
   ],
   "source": [
    "# NumPy 배열로부터 DataFrame 객체 생성\n",
    "df = pd.DataFrame(\n",
    "    arr, \n",
    "    columns=['money_fortune', 'love_fortune'], \n",
    "    index=['Jan', 'Feb', 'Mar', 'Apr', 'May', 'Jun',\n",
    "          'Jul', 'Aug', 'Sep', 'Oct', 'Nov', 'Dec']\n",
    ")\n",
    "\n",
    "df"
   ]
  },
  {
   "cell_type": "markdown",
   "metadata": {},
   "source": [
    "### <strong> Series 객체 조작 </strong>"
   ]
  },
  {
   "cell_type": "markdown",
   "metadata": {},
   "source": [
    "#### Dictionary 스타일 조작"
   ]
  },
  {
   "cell_type": "code",
   "execution_count": 33,
   "metadata": {},
   "outputs": [
    {
     "name": "stdout",
     "output_type": "stream",
     "text": [
      "a    0.25\n",
      "b    0.50\n",
      "c    0.75\n",
      "d    1.00\n",
      "dtype: float64\n",
      "True\n",
      "True\n",
      "Index(['a', 'b', 'c', 'd'], dtype='object')\n",
      "Index(['a', 'b', 'c', 'd'], dtype='object')\n",
      "a    0.25\n",
      "b    0.50\n",
      "c    0.75\n",
      "d    1.00\n",
      "e    1.00\n",
      "dtype: float64\n"
     ]
    }
   ],
   "source": [
    "# Series 객체 생성\n",
    "ser = pd.Series([0.25, 0.5, 0.75, 1.0], index=['a', 'b', 'c', 'd'])\n",
    "\n",
    "print(ser)    \n",
    "print('a' in ser)   # [+] Key + in 키워드\n",
    "print(0.25 in ser.values)  # [+] Value + in 키워드\n",
    "print(ser.index)   # [+] 인덱스\n",
    "print(ser.keys())   # [+] 키 집합\n",
    "ser['e'] = 1    # [+] 값 추가\n",
    "...    # [+] 값 수정\n",
    "print(ser)"
   ]
  },
  {
   "cell_type": "markdown",
   "metadata": {},
   "source": [
    "#### 배열 스타일 조작"
   ]
  },
  {
   "cell_type": "code",
   "execution_count": 34,
   "metadata": {},
   "outputs": [
    {
     "name": "stdout",
     "output_type": "stream",
     "text": [
      "a    0.25\n",
      "b    0.50\n",
      "c    0.75\n",
      "dtype: float64\n",
      "b    0.50\n",
      "c    0.75\n",
      "dtype: float64\n",
      "a    0.25\n",
      "e    1.00\n",
      "dtype: float64\n"
     ]
    }
   ],
   "source": [
    "print(ser['a':'c'])   # 슬라이싱\n",
    "print(ser[(ser > 0.3) & (ser < 0.8)])   # 논리 연산\n",
    "# 팬시 인덱싱\n",
    "ind = ['a', 'e'] \n",
    "print(ser[ind])"
   ]
  },
  {
   "cell_type": "markdown",
   "metadata": {},
   "source": [
    "#### Pandas 객체 인덱싱\n",
    "+ 정수 기반 인덱싱(암묵적, implicit)\n",
    "+ 레이블 기반 인덱싱(명시적, explicit)"
   ]
  },
  {
   "cell_type": "code",
   "execution_count": 29,
   "metadata": {},
   "outputs": [
    {
     "name": "stdout",
     "output_type": "stream",
     "text": [
      "a    0.25\n",
      "b    0.50\n",
      "c    0.75\n",
      "dtype: float64\n",
      "a    0.25\n",
      "b    0.50\n",
      "c    0.75\n",
      "dtype: float64\n"
     ]
    }
   ],
   "source": [
    "# 슬라이싱을 이용한 'a', 'b', 'c' 선택\n",
    "print(ser[0:3])   # 정수 기반 인덱싱\n",
    "print(ser['a':'c'])     # 레이블 기반 인덱싱"
   ]
  },
  {
   "cell_type": "markdown",
   "metadata": {},
   "source": [
    "### <strong> DataFrame 객체 조작 </strong>"
   ]
  },
  {
   "cell_type": "code",
   "execution_count": 30,
   "metadata": {},
   "outputs": [
    {
     "data": {
      "text/plain": [
       "California    423967\n",
       "Texas         695662\n",
       "New York      141297\n",
       "Florida       170312\n",
       "Illinois      149995\n",
       "Name: area, dtype: int64"
      ]
     },
     "execution_count": 30,
     "metadata": {},
     "output_type": "execute_result"
    }
   ],
   "source": [
    "# 특정 Series 객체 접근\n",
    "states['area']\n",
    "states.area"
   ]
  },
  {
   "cell_type": "code",
   "execution_count": 32,
   "metadata": {},
   "outputs": [
    {
     "data": {
      "text/html": [
       "<div>\n",
       "<style scoped>\n",
       "    .dataframe tbody tr th:only-of-type {\n",
       "        vertical-align: middle;\n",
       "    }\n",
       "\n",
       "    .dataframe tbody tr th {\n",
       "        vertical-align: top;\n",
       "    }\n",
       "\n",
       "    .dataframe thead th {\n",
       "        text-align: right;\n",
       "    }\n",
       "</style>\n",
       "<table border=\"1\" class=\"dataframe\">\n",
       "  <thead>\n",
       "    <tr style=\"text-align: right;\">\n",
       "      <th></th>\n",
       "      <th>population</th>\n",
       "      <th>area</th>\n",
       "      <th>density</th>\n",
       "    </tr>\n",
       "  </thead>\n",
       "  <tbody>\n",
       "    <tr>\n",
       "      <th>California</th>\n",
       "      <td>38332521</td>\n",
       "      <td>423967</td>\n",
       "      <td>90.413926</td>\n",
       "    </tr>\n",
       "    <tr>\n",
       "      <th>Texas</th>\n",
       "      <td>26448193</td>\n",
       "      <td>695662</td>\n",
       "      <td>38.018740</td>\n",
       "    </tr>\n",
       "    <tr>\n",
       "      <th>New York</th>\n",
       "      <td>19651127</td>\n",
       "      <td>141297</td>\n",
       "      <td>139.076746</td>\n",
       "    </tr>\n",
       "    <tr>\n",
       "      <th>Florida</th>\n",
       "      <td>19552860</td>\n",
       "      <td>170312</td>\n",
       "      <td>114.806121</td>\n",
       "    </tr>\n",
       "    <tr>\n",
       "      <th>Illinois</th>\n",
       "      <td>12882135</td>\n",
       "      <td>149995</td>\n",
       "      <td>85.883763</td>\n",
       "    </tr>\n",
       "  </tbody>\n",
       "</table>\n",
       "</div>"
      ],
      "text/plain": [
       "            population    area     density\n",
       "California    38332521  423967   90.413926\n",
       "Texas         26448193  695662   38.018740\n",
       "New York      19651127  141297  139.076746\n",
       "Florida       19552860  170312  114.806121\n",
       "Illinois      12882135  149995   85.883763"
      ]
     },
     "execution_count": 32,
     "metadata": {},
     "output_type": "execute_result"
    }
   ],
   "source": [
    "# [+] Series 객체 추가 (밀도 = 인구 / 면적)\n",
    "states['density']=states['population']/states['area']\n",
    "states"
   ]
  },
  {
   "cell_type": "markdown",
   "metadata": {},
   "source": [
    "#### 인덱서: ```loc```, ```iloc```"
   ]
  },
  {
   "cell_type": "code",
   "execution_count": 35,
   "metadata": {},
   "outputs": [
    {
     "data": {
      "text/plain": [
       "1    a\n",
       "3    b\n",
       "5    c\n",
       "dtype: object"
      ]
     },
     "execution_count": 35,
     "metadata": {},
     "output_type": "execute_result"
    }
   ],
   "source": [
    "# Series 객체 생성\n",
    "ser = pd.Series(['a', 'b', 'c'], index=[1, 3, 5])\n",
    "ser"
   ]
  },
  {
   "cell_type": "code",
   "execution_count": 36,
   "metadata": {},
   "outputs": [
    {
     "name": "stdout",
     "output_type": "stream",
     "text": [
      "a\n",
      "1    a\n",
      "3    b\n",
      "dtype: object\n"
     ]
    }
   ],
   "source": [
    "# loc 인덱서\n",
    "print(ser.loc[1])\n",
    "print(ser.loc[1:3])"
   ]
  },
  {
   "cell_type": "code",
   "execution_count": 37,
   "metadata": {},
   "outputs": [
    {
     "name": "stdout",
     "output_type": "stream",
     "text": [
      "b\n",
      "3    b\n",
      "5    c\n",
      "dtype: object\n"
     ]
    }
   ],
   "source": [
    "# iloc 인덱서\n",
    "print(ser.iloc[1])\n",
    "print(ser.iloc[1:3])"
   ]
  },
  {
   "cell_type": "code",
   "execution_count": 38,
   "metadata": {},
   "outputs": [
    {
     "name": "stdout",
     "output_type": "stream",
     "text": [
      "[[3.83325210e+07 4.23967000e+05 9.04139261e+01]\n",
      " [2.64481930e+07 6.95662000e+05 3.80187404e+01]\n",
      " [1.96511270e+07 1.41297000e+05 1.39076746e+02]\n",
      " [1.95528600e+07 1.70312000e+05 1.14806121e+02]\n",
      " [1.28821350e+07 1.49995000e+05 8.58837628e+01]] \n",
      "\n",
      "              California         Texas      New York       Florida  \\\n",
      "population  3.833252e+07  2.644819e+07  1.965113e+07  1.955286e+07   \n",
      "area        4.239670e+05  6.956620e+05  1.412970e+05  1.703120e+05   \n",
      "density     9.041393e+01  3.801874e+01  1.390767e+02  1.148061e+02   \n",
      "\n",
      "                Illinois  \n",
      "population  1.288214e+07  \n",
      "area        1.499950e+05  \n",
      "density     8.588376e+01   \n",
      "\n",
      "            population    area\n",
      "California    38332521  423967\n",
      "Texas         26448193  695662\n",
      "New York      19651127  141297 \n",
      "\n",
      "            population\n",
      "California    38332521\n",
      "Texas         26448193\n",
      "New York      19651127\n",
      "Florida       19552860\n",
      "Illinois      12882135\n"
     ]
    }
   ],
   "source": [
    "# DataFrame 객체 = 2차원 배열\n",
    "print(states.values, '\\n')        # 값들을 얻어오기\n",
    "print(states.T, '\\n')             # 전치행렬\n",
    "print(states.iloc[:3, :2], '\\n')  # 정수 기반 슬라이싱\n",
    "print(states.loc[: 'Illinois', : 'population'])  # 레이블 기반 슬라이싱"
   ]
  },
  {
   "cell_type": "code",
   "execution_count": 39,
   "metadata": {},
   "outputs": [
    {
     "data": {
      "text/html": [
       "<div>\n",
       "<style scoped>\n",
       "    .dataframe tbody tr th:only-of-type {\n",
       "        vertical-align: middle;\n",
       "    }\n",
       "\n",
       "    .dataframe tbody tr th {\n",
       "        vertical-align: top;\n",
       "    }\n",
       "\n",
       "    .dataframe thead th {\n",
       "        text-align: right;\n",
       "    }\n",
       "</style>\n",
       "<table border=\"1\" class=\"dataframe\">\n",
       "  <thead>\n",
       "    <tr style=\"text-align: right;\">\n",
       "      <th></th>\n",
       "      <th>population</th>\n",
       "      <th>density</th>\n",
       "    </tr>\n",
       "  </thead>\n",
       "  <tbody>\n",
       "    <tr>\n",
       "      <th>New York</th>\n",
       "      <td>19651127</td>\n",
       "      <td>139.076746</td>\n",
       "    </tr>\n",
       "    <tr>\n",
       "      <th>Florida</th>\n",
       "      <td>19552860</td>\n",
       "      <td>114.806121</td>\n",
       "    </tr>\n",
       "  </tbody>\n",
       "</table>\n",
       "</div>"
      ],
      "text/plain": [
       "          population     density\n",
       "New York    19651127  139.076746\n",
       "Florida     19552860  114.806121"
      ]
     },
     "execution_count": 39,
     "metadata": {},
     "output_type": "execute_result"
    }
   ],
   "source": [
    "# 마스킹 + 팬시 인덱싱\n",
    "states.loc[states.density > 100, ['population', 'density']]"
   ]
  },
  {
   "cell_type": "code",
   "execution_count": null,
   "metadata": {},
   "outputs": [
    {
     "data": {
      "text/html": [
       "<div>\n",
       "<style scoped>\n",
       "    .dataframe tbody tr th:only-of-type {\n",
       "        vertical-align: middle;\n",
       "    }\n",
       "\n",
       "    .dataframe tbody tr th {\n",
       "        vertical-align: top;\n",
       "    }\n",
       "\n",
       "    .dataframe thead th {\n",
       "        text-align: right;\n",
       "    }\n",
       "</style>\n",
       "<table border=\"1\" class=\"dataframe\">\n",
       "  <thead>\n",
       "    <tr style=\"text-align: right;\">\n",
       "      <th></th>\n",
       "      <th>population</th>\n",
       "      <th>area</th>\n",
       "      <th>density</th>\n",
       "    </tr>\n",
       "  </thead>\n",
       "  <tbody>\n",
       "    <tr>\n",
       "      <th>California</th>\n",
       "      <td>38332521</td>\n",
       "      <td>423967</td>\n",
       "      <td>90.000000</td>\n",
       "    </tr>\n",
       "    <tr>\n",
       "      <th>Texas</th>\n",
       "      <td>26448193</td>\n",
       "      <td>695662</td>\n",
       "      <td>38.018740</td>\n",
       "    </tr>\n",
       "    <tr>\n",
       "      <th>New York</th>\n",
       "      <td>19651127</td>\n",
       "      <td>141297</td>\n",
       "      <td>139.076746</td>\n",
       "    </tr>\n",
       "    <tr>\n",
       "      <th>Florida</th>\n",
       "      <td>19552860</td>\n",
       "      <td>170312</td>\n",
       "      <td>114.806121</td>\n",
       "    </tr>\n",
       "    <tr>\n",
       "      <th>Illinois</th>\n",
       "      <td>12882135</td>\n",
       "      <td>149995</td>\n",
       "      <td>85.883763</td>\n",
       "    </tr>\n",
       "  </tbody>\n",
       "</table>\n",
       "</div>"
      ],
      "text/plain": [
       "            population    area     density\n",
       "California    38332521  423967   90.000000\n",
       "Texas         26448193  695662   38.018740\n",
       "New York      19651127  141297  139.076746\n",
       "Florida       19552860  170312  114.806121\n",
       "Illinois      12882135  149995   85.883763"
      ]
     },
     "execution_count": 40,
     "metadata": {},
     "output_type": "execute_result"
    }
   ],
   "source": [
    "# 값 수정\n",
    "states.iloc[0, 2] = 90\n",
    "states"
   ]
  },
  {
   "cell_type": "code",
   "execution_count": null,
   "metadata": {},
   "outputs": [],
   "source": []
  }
 ],
 "metadata": {
  "kernelspec": {
   "display_name": "main",
   "language": "python",
   "name": "python3"
  },
  "language_info": {
   "codemirror_mode": {
    "name": "ipython",
    "version": 3
   },
   "file_extension": ".py",
   "mimetype": "text/x-python",
   "name": "python",
   "nbconvert_exporter": "python",
   "pygments_lexer": "ipython3",
   "version": "3.11.5"
  }
 },
 "nbformat": 4,
 "nbformat_minor": 4
}
