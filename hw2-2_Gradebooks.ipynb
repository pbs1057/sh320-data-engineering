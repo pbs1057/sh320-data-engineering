{
 "cells": [
  {
   "cell_type": "code",
   "execution_count": 1,
   "id": "d673e5df",
   "metadata": {},
   "outputs": [],
   "source": [
    "subjects = [\"physics\", \"calculus\", \"poetry\", \"history\"]\n",
    "grades = [98, 97, 85, 88]"
   ]
  },
  {
   "cell_type": "code",
   "execution_count": 2,
   "id": "f140dee3",
   "metadata": {},
   "outputs": [],
   "source": [
    "gradebook = [[\"physics\", 98], [\"calculus\", 97], [\"poetry\", 85], [\"history\", 88]]"
   ]
  },
  {
   "cell_type": "code",
   "execution_count": 3,
   "id": "2fc8be05",
   "metadata": {},
   "outputs": [],
   "source": [
    "gradebook.append([\"computer science\", 100])\n",
    "gradebook.append([\"visual arts\", 93])"
   ]
  },
  {
   "cell_type": "code",
   "execution_count": 5,
   "id": "2d507915",
   "metadata": {},
   "outputs": [],
   "source": [
    "gradebook[-1][1] += 5"
   ]
  },
  {
   "cell_type": "code",
   "execution_count": 6,
   "id": "e73a4ae0",
   "metadata": {},
   "outputs": [],
   "source": [
    "gradebook[2].remove(85)\n",
    "gradebook[2].append(\"Pass\")"
   ]
  },
  {
   "cell_type": "code",
   "execution_count": 7,
   "id": "9c51fcfb",
   "metadata": {},
   "outputs": [],
   "source": [
    "last_semester_gradebook = [[\"politics\", 80], [\"latin\", 96], [\"dance\", 97], [\"architecture\", 65]]"
   ]
  },
  {
   "cell_type": "code",
   "execution_count": 8,
   "id": "e6c5cf90",
   "metadata": {},
   "outputs": [],
   "source": [
    "full_gradebook = last_semester_gradebook + gradebook"
   ]
  },
  {
   "cell_type": "code",
   "execution_count": 9,
   "id": "92a3a2d7",
   "metadata": {},
   "outputs": [
    {
     "data": {
      "text/plain": [
       "[['politics', 80],\n",
       " ['latin', 96],\n",
       " ['dance', 97],\n",
       " ['architecture', 65],\n",
       " ['physics', 98],\n",
       " ['calculus', 97],\n",
       " ['poetry', 'Pass'],\n",
       " ['history', 88],\n",
       " ['computer science', 100],\n",
       " ['visual arts', 98]]"
      ]
     },
     "execution_count": 9,
     "metadata": {},
     "output_type": "execute_result"
    }
   ],
   "source": [
    "full_gradebook"
   ]
  },
  {
   "cell_type": "code",
   "execution_count": null,
   "id": "a56ad9d7",
   "metadata": {},
   "outputs": [],
   "source": []
  }
 ],
 "metadata": {
  "kernelspec": {
   "display_name": "main",
   "language": "python",
   "name": "python3"
  },
  "language_info": {
   "codemirror_mode": {
    "name": "ipython",
    "version": 3
   },
   "file_extension": ".py",
   "mimetype": "text/x-python",
   "name": "python",
   "nbconvert_exporter": "python",
   "pygments_lexer": "ipython3",
   "version": "3.11.5"
  }
 },
 "nbformat": 4,
 "nbformat_minor": 5
}
