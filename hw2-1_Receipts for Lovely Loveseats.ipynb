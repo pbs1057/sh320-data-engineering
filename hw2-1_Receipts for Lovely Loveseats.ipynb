{
 "cells": [
  {
   "cell_type": "code",
   "execution_count": 1,
   "id": "48ed998b",
   "metadata": {},
   "outputs": [],
   "source": [
    "lovely_loveseat_description = \"Lovely Loveseat. Tufted polyester blend on wood. 32 inches high x 40 inches wide x 30 inches deep. Red or white.\""
   ]
  },
  {
   "cell_type": "code",
   "execution_count": 2,
   "id": "21e8bbb8",
   "metadata": {},
   "outputs": [],
   "source": [
    "lovely_loveseat_price = 254.00"
   ]
  },
  {
   "cell_type": "code",
   "execution_count": 3,
   "id": "7467ceaf",
   "metadata": {},
   "outputs": [],
   "source": [
    "stylish_settee_description = \"Stylish Settee. Faux leather on birch. 29.50 inches high x 54.75 inches wide x 28 inches deep. Black.\""
   ]
  },
  {
   "cell_type": "code",
   "execution_count": 4,
   "id": "323cfaf0",
   "metadata": {},
   "outputs": [],
   "source": [
    "stylish_settee_price = 180.50"
   ]
  },
  {
   "cell_type": "code",
   "execution_count": 13,
   "id": "2d497ec3",
   "metadata": {},
   "outputs": [],
   "source": [
    "luxurious_lamp_description = \"Luxurious Lamp. Glass and iron. 36 inches tall. Brown with cream shade.\""
   ]
  },
  {
   "cell_type": "code",
   "execution_count": 14,
   "id": "db7c8290",
   "metadata": {},
   "outputs": [],
   "source": [
    "luxurious_lamp_price = 52.15"
   ]
  },
  {
   "cell_type": "code",
   "execution_count": 8,
   "id": "bb94c003",
   "metadata": {},
   "outputs": [],
   "source": [
    "sales_tax = 0.088"
   ]
  },
  {
   "cell_type": "code",
   "execution_count": 9,
   "id": "294c6586",
   "metadata": {},
   "outputs": [],
   "source": [
    "customer_one_total = 0"
   ]
  },
  {
   "cell_type": "code",
   "execution_count": 10,
   "id": "4927c65f",
   "metadata": {},
   "outputs": [],
   "source": [
    "customer_one_itemization = \"\""
   ]
  },
  {
   "cell_type": "code",
   "execution_count": 11,
   "id": "3e34716f",
   "metadata": {},
   "outputs": [],
   "source": [
    "# Lovely Loveseat 구매\n",
    "customer_one_total += lovely_loveseat_price\n",
    "customer_one_itemization += lovely_loveseat_description"
   ]
  },
  {
   "cell_type": "code",
   "execution_count": 15,
   "id": "e15c6666",
   "metadata": {},
   "outputs": [],
   "source": [
    "customer_one_total += luxurious_lamp_price\n",
    "customer_one_itemization += luxurious_lamp_description"
   ]
  },
  {
   "cell_type": "code",
   "execution_count": 16,
   "id": "77a94c5c",
   "metadata": {},
   "outputs": [],
   "source": [
    "customer_one_tax = customer_one_total * sales_tax"
   ]
  },
  {
   "cell_type": "code",
   "execution_count": 17,
   "id": "76fd9cdf",
   "metadata": {},
   "outputs": [],
   "source": [
    "customer_one_total += customer_one_tax"
   ]
  },
  {
   "cell_type": "code",
   "execution_count": 18,
   "id": "2b6cdcd9",
   "metadata": {},
   "outputs": [
    {
     "name": "stdout",
     "output_type": "stream",
     "text": [
      "Customer One Items:\n",
      "Lovely Loveseat. Tufted polyester blend on wood. 32 inches high x 40 inches wide x 30 inches deep. Red or white.Luxurious Lamp. Glass and iron. 36 inches tall. Brown with cream shade.\n",
      "Customer One Total:\n",
      "333.09119999999996\n"
     ]
    }
   ],
   "source": [
    "print(\"Customer One Items:\")\n",
    "print(customer_one_itemization)\n",
    "print(\"Customer One Total:\")\n",
    "print(customer_one_total)"
   ]
  },
  {
   "cell_type": "code",
   "execution_count": null,
   "id": "dd7daee2",
   "metadata": {},
   "outputs": [],
   "source": []
  }
 ],
 "metadata": {
  "kernelspec": {
   "display_name": "main",
   "language": "python",
   "name": "python3"
  },
  "language_info": {
   "codemirror_mode": {
    "name": "ipython",
    "version": 3
   },
   "file_extension": ".py",
   "mimetype": "text/x-python",
   "name": "python",
   "nbconvert_exporter": "python",
   "pygments_lexer": "ipython3",
   "version": "3.11.5"
  }
 },
 "nbformat": 4,
 "nbformat_minor": 5
}
